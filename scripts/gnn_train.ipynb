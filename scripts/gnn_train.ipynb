{
 "cells": [
  {
   "cell_type": "code",
   "execution_count": 1,
   "id": "dd497709",
   "metadata": {},
   "outputs": [],
   "source": [
    "import json\n",
    "import torch\n",
    "import numpy as np\n",
    "from torch_geometric.data import Data\n",
    "from torch_geometric.nn import GCNConv\n",
    "import torch.nn.functional as F\n",
    "import matplotlib.pyplot as plt"
   ]
  },
  {
   "cell_type": "code",
   "execution_count": 2,
   "id": "be65b463",
   "metadata": {},
   "outputs": [],
   "source": [
    "# Load your saved seismic JSON data\n",
    "with open('../data/seismic_network.json', 'r') as f:\n",
    "    seismic_data = json.load(f)\n",
    "\n",
    "# Extract nodes and links\n",
    "nodes = seismic_data['hybrid_network']['nodes']\n",
    "links = seismic_data['hybrid_network']['links']\n",
    "station_index = {node['id']: idx for idx, node in enumerate(nodes)}\n",
    "\n",
    "# Features and labels\n",
    "x_list = []\n",
    "y_list = []\n",
    "\n",
    "for node in nodes:\n",
    "    x_list.append([\n",
    "        node.get(\"stability_score\", 0.0),\n",
    "        node.get(\"risk_score\", 0.0)\n",
    "    ])\n",
    "    y_list.append(1 if node.get(\"stability\") == \"unstable\" else 0)\n",
    "\n",
    "x = torch.tensor(x_list, dtype=torch.float)\n",
    "y = torch.tensor(y_list, dtype=torch.long)\n",
    "\n",
    "# Edges\n",
    "edge_list = []\n",
    "for link in links:\n",
    "    src = station_index.get(link[\"source\"])\n",
    "    tgt = station_index.get(link[\"target\"])\n",
    "    if src is not None and tgt is not None:\n",
    "        edge_list.append([src, tgt])\n",
    "        edge_list.append([tgt, src])  # bidirectional\n",
    "\n",
    "edge_index = torch.tensor(edge_list, dtype=torch.long).t().contiguous()\n",
    "\n",
    "# Create data object\n",
    "data = Data(x=x, edge_index=edge_index, y=y)\n"
   ]
  },
  {
   "cell_type": "code",
   "execution_count": 3,
   "id": "ca88cf97",
   "metadata": {},
   "outputs": [],
   "source": [
    "import torch\n",
    "import torch.nn.functional as F\n",
    "from torch_geometric.nn import GCNConv\n",
    "\n",
    "class MyGCN(torch.nn.Module):\n",
    "    def __init__(self, input_dim, hidden_dim, output_dim):\n",
    "        super(MyGCN, self).__init__()\n",
    "        self.conv1 = GCNConv(input_dim, hidden_dim)\n",
    "        self.conv2 = GCNConv(hidden_dim, output_dim)\n",
    "\n",
    "    def forward(self, x, edge_index):\n",
    "        x = self.conv1(x, edge_index)\n",
    "        x = F.relu(x)\n",
    "        x = self.conv2(x, edge_index)\n",
    "        return x\n"
   ]
  },
  {
   "cell_type": "code",
   "execution_count": 4,
   "id": "0f66d9f7",
   "metadata": {},
   "outputs": [],
   "source": [
    "# Correct usage with matching parameters\n",
    "_x = x.size(1);\n",
    "model = MyGCN(_x, 16, 2)\n",
    "\n",
    "optimizer = torch.optim.Adam(model.parameters(), lr=0.01)\n",
    "loss_fn = torch.nn.CrossEntropyLoss()"
   ]
  },
  {
   "cell_type": "markdown",
   "id": "5df8bfa9",
   "metadata": {},
   "source": [
    "print(_x)"
   ]
  },
  {
   "cell_type": "code",
   "execution_count": 5,
   "id": "30f64ad0",
   "metadata": {},
   "outputs": [
    {
     "name": "stdout",
     "output_type": "stream",
     "text": [
      "Epoch 0 | Loss: 0.6914 | Accuracy: 85.94%\n",
      "Epoch 10 | Loss: 0.4088 | Accuracy: 90.62%\n",
      "Epoch 20 | Loss: 0.2757 | Accuracy: 90.62%\n",
      "Epoch 30 | Loss: 0.2758 | Accuracy: 90.62%\n",
      "Epoch 40 | Loss: 0.2736 | Accuracy: 90.62%\n",
      "Epoch 50 | Loss: 0.2654 | Accuracy: 90.62%\n",
      "Epoch 60 | Loss: 0.2630 | Accuracy: 90.62%\n",
      "Epoch 70 | Loss: 0.2600 | Accuracy: 90.62%\n",
      "Epoch 80 | Loss: 0.2567 | Accuracy: 90.62%\n",
      "Epoch 90 | Loss: 0.2534 | Accuracy: 90.62%\n"
     ]
    }
   ],
   "source": [
    "\n",
    "# Train loop\n",
    "epochs = 100\n",
    "losses = []\n",
    "for epoch in range(epochs):\n",
    "    model.train()\n",
    "    optimizer.zero_grad()\n",
    "    out = model(data.x, data.edge_index)\n",
    "    loss = loss_fn(out, data.y)\n",
    "    loss.backward()\n",
    "    optimizer.step()\n",
    "    losses.append(loss.item())\n",
    "\n",
    "    pred = out.argmax(dim=1)\n",
    "    acc = (pred == data.y).float().mean().item()\n",
    "    if epoch % 10 == 0:\n",
    "        print(f\"Epoch {epoch} | Loss: {loss.item():.4f} | Accuracy: {acc:.2%}\")\n"
   ]
  },
  {
   "cell_type": "code",
   "execution_count": null,
   "id": "d083d70d",
   "metadata": {},
   "outputs": [
    {
     "name": "stdout",
     "output_type": "stream",
     "text": [
      "✅ Model saved as gnn_model.pt\n"
     ]
    },
    {
     "ename": "",
     "evalue": "",
     "output_type": "error",
     "traceback": [
      "\u001b[1;31mThe Kernel crashed while executing code in the current cell or a previous cell. \n",
      "\u001b[1;31mPlease review the code in the cell(s) to identify a possible cause of the failure. \n",
      "\u001b[1;31mClick <a href='https://aka.ms/vscodeJupyterKernelCrash'>here</a> for more info. \n",
      "\u001b[1;31mView Jupyter <a href='command:jupyter.viewOutput'>log</a> for further details."
     ]
    }
   ],
   "source": [
    "\n",
    "# Save the trained model\n",
    "torch.save(model.state_dict(), \"gnn_model.pt\")\n",
    "print(\"✅ Model saved as gnn_model.pt\")"
   ]
  },
  {
   "cell_type": "code",
   "execution_count": null,
   "id": "1b934d9e",
   "metadata": {},
   "outputs": [],
   "source": [
    "\n",
    "# Plot training loss\n",
    "plt.plot(losses)\n",
    "plt.title(\"Training Loss\")\n",
    "plt.xlabel(\"Epoch\")\n",
    "plt.ylabel(\"Loss\")\n",
    "plt.grid(True)\n",
    "plt.show()"
   ]
  }
 ],
 "metadata": {
  "kernelspec": {
   "display_name": "Python (pml_env)",
   "language": "python",
   "name": "pml_env"
  },
  "language_info": {
   "codemirror_mode": {
    "name": "ipython",
    "version": 3
   },
   "file_extension": ".py",
   "mimetype": "text/x-python",
   "name": "python",
   "nbconvert_exporter": "python",
   "pygments_lexer": "ipython3",
   "version": "3.13.5"
  }
 },
 "nbformat": 4,
 "nbformat_minor": 5
}
